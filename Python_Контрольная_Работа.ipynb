{
 "cells": [
  {
   "cell_type": "markdown",
   "id": "379ecaf9",
   "metadata": {},
   "source": [
    "# №1"
   ]
  },
  {
   "cell_type": "markdown",
   "id": "fb7be04f",
   "metadata": {},
   "source": [
    "Ответ: 4"
   ]
  },
  {
   "cell_type": "markdown",
   "id": "e5078778",
   "metadata": {},
   "source": [
    "# №2"
   ]
  },
  {
   "cell_type": "markdown",
   "id": "a39ffc5d",
   "metadata": {},
   "source": [
    "Ответ: 2"
   ]
  },
  {
   "cell_type": "markdown",
   "id": "3ebb3a92",
   "metadata": {},
   "source": [
    "# №3"
   ]
  },
  {
   "cell_type": "markdown",
   "id": "eeab370f",
   "metadata": {},
   "source": [
    "Ответ: 2"
   ]
  },
  {
   "cell_type": "markdown",
   "id": "a3371db7",
   "metadata": {},
   "source": [
    "# №4"
   ]
  },
  {
   "cell_type": "markdown",
   "id": "38607333",
   "metadata": {},
   "source": [
    "Ответ: 2"
   ]
  },
  {
   "cell_type": "markdown",
   "id": "6f473745",
   "metadata": {},
   "source": [
    "# №5"
   ]
  },
  {
   "cell_type": "markdown",
   "id": "b77610af",
   "metadata": {},
   "source": [
    "Ответ: 2"
   ]
  },
  {
   "cell_type": "markdown",
   "id": "bf4af634",
   "metadata": {},
   "source": [
    "# №6"
   ]
  },
  {
   "cell_type": "markdown",
   "id": "11e9023b",
   "metadata": {},
   "source": [
    "Ответ: 2"
   ]
  },
  {
   "cell_type": "markdown",
   "id": "000ac763",
   "metadata": {},
   "source": [
    "# №7"
   ]
  },
  {
   "cell_type": "markdown",
   "id": "bec71902",
   "metadata": {},
   "source": [
    "Явно указывает какие атрибуты объекта нужны "
   ]
  },
  {
   "cell_type": "markdown",
   "id": "84420b17",
   "metadata": {},
   "source": [
    "# №8"
   ]
  },
  {
   "cell_type": "markdown",
   "id": "1e3af4e0",
   "metadata": {},
   "source": [
    "Ответ: Выведет Error и finally, а вернет 3"
   ]
  },
  {
   "cell_type": "markdown",
   "id": "d77198bd",
   "metadata": {},
   "source": [
    "# №9"
   ]
  },
  {
   "cell_type": "code",
   "execution_count": 47,
   "id": "a2aa2709",
   "metadata": {},
   "outputs": [
    {
     "name": "stdout",
     "output_type": "stream",
     "text": [
      "30\n",
      "True\n"
     ]
    }
   ],
   "source": [
    "x = int(input())\n",
    "print((len(str(x)) == 2 and x % 3 == 0))"
   ]
  },
  {
   "cell_type": "markdown",
   "id": "b21f5e21",
   "metadata": {},
   "source": [
    "# №10"
   ]
  },
  {
   "cell_type": "code",
   "execution_count": 70,
   "id": "76567c41",
   "metadata": {},
   "outputs": [],
   "source": [
    "def count(x):\n",
    "    binX = bin(x)\n",
    "    count = 0\n",
    "    for i in binX:\n",
    "        if(i == '0'):\n",
    "            count += 1\n",
    "    return count - 1"
   ]
  },
  {
   "cell_type": "code",
   "execution_count": 72,
   "id": "de5feda8",
   "metadata": {},
   "outputs": [
    {
     "name": "stdout",
     "output_type": "stream",
     "text": [
      "4\n"
     ]
    },
    {
     "data": {
      "text/plain": [
       "2"
      ]
     },
     "execution_count": 72,
     "metadata": {},
     "output_type": "execute_result"
    }
   ],
   "source": [
    "x = int(input())\n",
    "count(x)"
   ]
  },
  {
   "cell_type": "markdown",
   "id": "ce156cb1",
   "metadata": {},
   "source": [
    "# №11"
   ]
  },
  {
   "cell_type": "code",
   "execution_count": 17,
   "id": "747795a9",
   "metadata": {},
   "outputs": [],
   "source": [
    "lst1 = [1,2,3,14,33,1,9]\n",
    "lst2 = [1,2,3,14,33,1,9]\n",
    "lst2.append(789)"
   ]
  },
  {
   "cell_type": "code",
   "execution_count": 18,
   "id": "a45f2af5",
   "metadata": {},
   "outputs": [
    {
     "data": {
      "text/plain": [
       "[1, 2, 3, 14, 33, 1, 9]"
      ]
     },
     "execution_count": 18,
     "metadata": {},
     "output_type": "execute_result"
    }
   ],
   "source": [
    "lst1"
   ]
  },
  {
   "cell_type": "code",
   "execution_count": 19,
   "id": "aef0d2c2",
   "metadata": {},
   "outputs": [
    {
     "data": {
      "text/plain": [
       "[1, 2, 3, 14, 33, 1, 9, 789]"
      ]
     },
     "execution_count": 19,
     "metadata": {},
     "output_type": "execute_result"
    }
   ],
   "source": [
    "lst2"
   ]
  },
  {
   "cell_type": "code",
   "execution_count": 20,
   "id": "33b13745",
   "metadata": {},
   "outputs": [],
   "source": [
    "lst1 = [1,2,3,14,33,1,9]\n",
    "lst2 = lst1\n",
    "lst2.append(789)"
   ]
  },
  {
   "cell_type": "code",
   "execution_count": 21,
   "id": "c4113d0b",
   "metadata": {},
   "outputs": [
    {
     "data": {
      "text/plain": [
       "[1, 2, 3, 14, 33, 1, 9, 789]"
      ]
     },
     "execution_count": 21,
     "metadata": {},
     "output_type": "execute_result"
    }
   ],
   "source": [
    "lst1"
   ]
  },
  {
   "cell_type": "code",
   "execution_count": 22,
   "id": "a3fb23dd",
   "metadata": {},
   "outputs": [
    {
     "data": {
      "text/plain": [
       "[1, 2, 3, 14, 33, 1, 9, 789]"
      ]
     },
     "execution_count": 22,
     "metadata": {},
     "output_type": "execute_result"
    }
   ],
   "source": [
    "lst2"
   ]
  },
  {
   "cell_type": "markdown",
   "id": "2dcdc954",
   "metadata": {},
   "source": [
    "# № 12"
   ]
  },
  {
   "cell_type": "markdown",
   "id": "b0796e24",
   "metadata": {},
   "source": [
    "Ответ: 4"
   ]
  },
  {
   "cell_type": "markdown",
   "id": "2d304bd6",
   "metadata": {},
   "source": [
    "# №13"
   ]
  },
  {
   "cell_type": "markdown",
   "id": "f4009159",
   "metadata": {},
   "source": [
    "Ответ: 4"
   ]
  },
  {
   "cell_type": "markdown",
   "id": "735c2371",
   "metadata": {},
   "source": [
    "# №14"
   ]
  },
  {
   "cell_type": "markdown",
   "id": "bc316b81",
   "metadata": {},
   "source": [
    "Ответ: 4"
   ]
  },
  {
   "cell_type": "markdown",
   "id": "c8ed1218",
   "metadata": {},
   "source": [
    "# №15"
   ]
  },
  {
   "cell_type": "markdown",
   "id": "79fe58fa",
   "metadata": {},
   "source": [
    "Ответ: 3"
   ]
  },
  {
   "cell_type": "markdown",
   "id": "53bb5ab5",
   "metadata": {},
   "source": [
    "# №16"
   ]
  },
  {
   "cell_type": "markdown",
   "id": "dd5b37f9",
   "metadata": {},
   "source": [
    "Ответ: 4"
   ]
  },
  {
   "cell_type": "markdown",
   "id": "bfed55ad",
   "metadata": {},
   "source": [
    "# №17"
   ]
  },
  {
   "cell_type": "markdown",
   "id": "48f42299",
   "metadata": {},
   "source": [
    "Ответ: 1"
   ]
  },
  {
   "cell_type": "markdown",
   "id": "928c7528",
   "metadata": {},
   "source": [
    "# №18"
   ]
  },
  {
   "cell_type": "markdown",
   "id": "a3fcf480",
   "metadata": {},
   "source": [
    "Ответ: 1"
   ]
  },
  {
   "cell_type": "markdown",
   "id": "82e1459b",
   "metadata": {},
   "source": [
    "# №19"
   ]
  },
  {
   "cell_type": "markdown",
   "id": "dbcc4f2e",
   "metadata": {},
   "source": [
    "@dataclass декоратор, который при использовании определяет конструктор, сравнение и перевод объекта в стринг. Т.е. нам не надо создовать их самим при создании класса. "
   ]
  },
  {
   "cell_type": "markdown",
   "id": "29430ac2",
   "metadata": {},
   "source": [
    "# №20"
   ]
  },
  {
   "cell_type": "code",
   "execution_count": 79,
   "id": "b0e48e23",
   "metadata": {},
   "outputs": [],
   "source": [
    "a = ['Python', 'C++', 'Pascal', 'Java'] \n",
    "b = [10, 5, 3, 8]"
   ]
  },
  {
   "cell_type": "code",
   "execution_count": 80,
   "id": "22a20a74",
   "metadata": {},
   "outputs": [
    {
     "data": {
      "text/plain": [
       "[('Python', 10), ('C++', 5), ('Pascal', 3), ('Java', 8)]"
      ]
     },
     "execution_count": 80,
     "metadata": {},
     "output_type": "execute_result"
    }
   ],
   "source": [
    "lt = list()\n",
    "for i in range(len(a)):\n",
    "    lt1 = list()\n",
    "    lt1.append(a[i])\n",
    "    lt1.append(b[i])\n",
    "    tp = tuple(lt1)\n",
    "    lt.append(tp)\n",
    "lt    "
   ]
  },
  {
   "cell_type": "markdown",
   "id": "0d8980af",
   "metadata": {},
   "source": [
    "# № 21"
   ]
  },
  {
   "cell_type": "markdown",
   "id": "83b82684",
   "metadata": {},
   "source": [
    "Ответ: 2, 6, 7, 8"
   ]
  },
  {
   "cell_type": "markdown",
   "id": "c0bc6521",
   "metadata": {},
   "source": [
    "# №22"
   ]
  },
  {
   "cell_type": "markdown",
   "id": "3078690d",
   "metadata": {},
   "source": [
    "Чтобы выполнялось только то, что заключено в этом условии"
   ]
  },
  {
   "cell_type": "markdown",
   "id": "a32295a3",
   "metadata": {},
   "source": [
    "# №25"
   ]
  },
  {
   "cell_type": "code",
   "execution_count": 83,
   "id": "953fb80f",
   "metadata": {},
   "outputs": [
    {
     "name": "stdout",
     "output_type": "stream",
     "text": [
      "Яблоко Апельсин\n",
      "['Апельсин', 'Яблоко']\n"
     ]
    }
   ],
   "source": [
    "st = input()\n",
    "lt = st.split(sep=' ', maxsplit=-1)\n",
    "print(sorted(lt))"
   ]
  },
  {
   "cell_type": "markdown",
   "id": "0e1be2df",
   "metadata": {},
   "source": [
    "# №27"
   ]
  },
  {
   "cell_type": "code",
   "execution_count": 86,
   "id": "c4a046c8",
   "metadata": {},
   "outputs": [
    {
     "name": "stdout",
     "output_type": "stream",
     "text": [
      "()()()()()\n",
      "Все супер!\n"
     ]
    }
   ],
   "source": [
    "st = input()\n",
    "lt = list(st)\n",
    "lt1 = list()\n",
    "for i in range(len(lt)):\n",
    "    if(lt[0]==')'):\n",
    "        lt1.append('(')\n",
    "        break\n",
    "    if(lt[i] == '('):\n",
    "        lt1.append('(')\n",
    "    if(lt[i] == ')'):\n",
    "        lt1.pop()\n",
    "if(len(lt1) == 0): print('Все супер!')\n",
    "if(len(lt1) > 0): print('Пос-ть неверна!')"
   ]
  }
 ],
 "metadata": {
  "kernelspec": {
   "display_name": "Python 3 (ipykernel)",
   "language": "python",
   "name": "python3"
  },
  "language_info": {
   "codemirror_mode": {
    "name": "ipython",
    "version": 3
   },
   "file_extension": ".py",
   "mimetype": "text/x-python",
   "name": "python",
   "nbconvert_exporter": "python",
   "pygments_lexer": "ipython3",
   "version": "3.9.13"
  }
 },
 "nbformat": 4,
 "nbformat_minor": 5
}
