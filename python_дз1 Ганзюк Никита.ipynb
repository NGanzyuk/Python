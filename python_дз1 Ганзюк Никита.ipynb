{
 "cells": [
  {
   "cell_type": "markdown",
   "id": "99d10385",
   "metadata": {},
   "source": [
    "# Задача 1 (расстояние между точками на земле)"
   ]
  },
  {
   "cell_type": "code",
   "execution_count": 225,
   "id": "a961e166",
   "metadata": {},
   "outputs": [],
   "source": [
    "import numpy as np"
   ]
  },
  {
   "cell_type": "code",
   "execution_count": 226,
   "id": "263f4242",
   "metadata": {},
   "outputs": [],
   "source": [
    "def shortestDistance(lat1, lng1, lat2, lng2):\n",
    "    lat1, lng1, lat2, lng2 = map(np.radians, (lat1, lng1, lat2, lng2))\n",
    "    AVG_EARTH_RADIUS = 6371 \n",
    "    lat = lat2 - lat1\n",
    "    lng = lng2 - lng1\n",
    "    d = np.sin(lat * 0.5) ** 2 + np.cos(lat1) * np.cos(lat2) * np.sin(lng * 0.5) ** 2\n",
    "    h = 2 * AVG_EARTH_RADIUS * np.arcsin(np.sqrt(d))\n",
    "    return h"
   ]
  },
  {
   "cell_type": "code",
   "execution_count": 227,
   "id": "3c7814ab",
   "metadata": {},
   "outputs": [
    {
     "name": "stdout",
     "output_type": "stream",
     "text": [
      "\n",
      "Введите широту точки A: 1\n",
      "Введите долготу точки A: 2\n",
      "Введите широту точки B: 3\n",
      "Введите долготу точки B: 4\n",
      "Кратчайшее растояние равно 314.4029510236249\n"
     ]
    }
   ],
   "source": [
    "print('')\n",
    "latA = float(input(\"Введите широту точки A: \"))\n",
    "lngA = float(input(\"Введите долготу точки A: \"))\n",
    "latB = float(input(\"Введите широту точки B: \"))\n",
    "lngB = float(input(\"Введите долготу точки B: \"))\n",
    "print('Кратчайшее растояние равно', shortestDistance(latA, lngA, latB, lngB))"
   ]
  },
  {
   "cell_type": "markdown",
   "id": "3ab6e96f",
   "metadata": {},
   "source": [
    "# Задача 2 (максимальная сумма)"
   ]
  },
  {
   "cell_type": "code",
   "execution_count": 223,
   "id": "cb0974df",
   "metadata": {},
   "outputs": [],
   "source": [
    "def highestSum(arr):\n",
    "    if (len(arr) == 1):\n",
    "        return arr[0]\n",
    "    max = arr[0] + arr[1]\n",
    "    for i in range(len(arr) - 2):\n",
    "        sum = arr[i + 1] + arr[i + 2]\n",
    "        if (sum > max):\n",
    "            max = sum\n",
    "    return max"
   ]
  },
  {
   "cell_type": "code",
   "execution_count": 224,
   "id": "6f84828d",
   "metadata": {},
   "outputs": [
    {
     "name": "stdout",
     "output_type": "stream",
     "text": [
      "Введите пос-ть чисел (чтобы остановить цикл введите ноль)\n",
      "1\n",
      "3\n",
      "5\n",
      "9\n",
      "0\n",
      "Наибольшая сумма 14\n"
     ]
    }
   ],
   "source": [
    "arr = []\n",
    "print(\"Введите пос-ть чисел (чтобы остановить цикл введите ноль)\")\n",
    "while True:\n",
    "    i = int(input())\n",
    "    arr.append(i)\n",
    "    if (i == 0):\n",
    "        break\n",
    "print(\"Наибольшая сумма\",highestSum(arr))"
   ]
  },
  {
   "cell_type": "markdown",
   "id": "b0bfb74a",
   "metadata": {},
   "source": [
    "# Задача 3 (сумма кубов)"
   ]
  },
  {
   "cell_type": "code",
   "execution_count": 218,
   "id": "a78d7361",
   "metadata": {},
   "outputs": [],
   "source": [
    "#Включая перестановки\n",
    "def sumOfCubes(N):\n",
    "    N = abs(N)\n",
    "    crN = N ** (1 / 3)\n",
    "    cbs = list()\n",
    "    count = 0\n",
    "    crN = int(crN)\n",
    "    for i in range(0, crN + 1):\n",
    "        cbs.append(i ** 3)\n",
    "    for i in cbs:\n",
    "        for j in cbs:\n",
    "            if (i == j):\n",
    "                continue # В задании указано A и B, я так понимаю - это разные числа, если нет, то это можно убрать \n",
    "            if (i + j == N):\n",
    "                count += 1\n",
    "    return count\n",
    "\n",
    "#Без перестановок \n",
    "def sumOfCubesWithout(N):\n",
    "    N = abs(N)\n",
    "    res = list()\n",
    "    cbs = list()\n",
    "    crN = N ** (1 / 3)\n",
    "    crN = int(crN)\n",
    "    for i in range(0, crN + 1):\n",
    "        cbs.append(i ** 3)\n",
    "    for i in cbs:\n",
    "        for j in cbs:\n",
    "            if (i == j):\n",
    "                continue # В задании указано A и B, я так понимаю - это разные числа, если нет, то это можно убрать \n",
    "            if (i + j == N):\n",
    "                tmpL = list()\n",
    "                tmpL.append(i)\n",
    "                tmpL.append(j)\n",
    "                res.append(sorted(tmpL))\n",
    "    rs_fin = list()\n",
    "    for elem in sorted(res):\n",
    "        if elem not in rs_fin:\n",
    "            rs_fin.append(elem)\n",
    "\n",
    "    return len(rs_fin)"
   ]
  },
  {
   "cell_type": "code",
   "execution_count": 219,
   "id": "1bf2aa32",
   "metadata": {},
   "outputs": [
    {
     "name": "stdout",
     "output_type": "stream",
     "text": [
      "Введите натуральное число: 35\n",
      "Различных пар натуральных чисел существует 2\n"
     ]
    }
   ],
   "source": [
    "N = int(input(\"Введите натуральное число: \"))\n",
    "print(\"Различных пар натуральных чисел существует\",sumOfCubes(N))"
   ]
  },
  {
   "cell_type": "code",
   "execution_count": 220,
   "id": "6a209654",
   "metadata": {},
   "outputs": [
    {
     "name": "stdout",
     "output_type": "stream",
     "text": [
      "Введите натуральное число: 35\n",
      "Различных пар натуральных чисел существует 1\n"
     ]
    }
   ],
   "source": [
    "N = int(input(\"Введите натуральное число: \"))\n",
    "print(\"Различных пар натуральных чисел существует\",sumOfCubesWithout(N))"
   ]
  },
  {
   "cell_type": "markdown",
   "id": "99f3ee30",
   "metadata": {},
   "source": [
    "# Задача 4 (Разложение на множители)"
   ]
  },
  {
   "cell_type": "code",
   "execution_count": 208,
   "id": "5e32451d",
   "metadata": {},
   "outputs": [],
   "source": [
    "def minDiv(N):\n",
    "    for i in range(2, N + 1):\n",
    "        if (N % i == 0):\n",
    "            div = i\n",
    "            break\n",
    "    return div"
   ]
  },
  {
   "cell_type": "code",
   "execution_count": 209,
   "id": "c66fb293",
   "metadata": {},
   "outputs": [],
   "source": [
    "def factor(N, minD):\n",
    "    resLt = list()\n",
    "    tmpLt = list()\n",
    "    tmpLt.append(N)\n",
    "    resLt.append(tmpLt)\n",
    "    for i in range(minD, N // 2 + 1):\n",
    "        if (N % i == 0):\n",
    "            div = N // i\n",
    "            ltI = factor(i, minDiv(i))\n",
    "            for j in range(0, len(ltI)):\n",
    "                tmpLt = list()\n",
    "                for el in ltI[j]:\n",
    "                    tmpLt.append(el)\n",
    "                tmpLt.append(div)\n",
    "                resLt.append(sorted(tmpLt))\n",
    "    rs_fin = list()\n",
    "    for elem in sorted(resLt):\n",
    "        if elem not in rs_fin:\n",
    "            rs_fin.append(elem)\n",
    "\n",
    "    return (rs_fin)"
   ]
  },
  {
   "cell_type": "code",
   "execution_count": 210,
   "id": "fc1da15a",
   "metadata": {},
   "outputs": [
    {
     "name": "stdout",
     "output_type": "stream",
     "text": [
      "Введите натуральное число: 36\n",
      "2*2*3*3\n",
      "2*2*9\n",
      "2*3*6\n",
      "2*18\n",
      "3*3*4\n",
      "3*12\n",
      "4*9\n",
      "6*6\n",
      "36\n"
     ]
    }
   ],
   "source": [
    "N = int(input(\"Введите натуральное число: \"))\n",
    "if(N > 1000000000):\n",
    "    print(\"Ошибка!, Вы ввели число превосходящее 1000000000\")\n",
    "else:\n",
    "    res = factor(N, minDiv(N))\n",
    "    for i in range (0, len(res)):\n",
    "        print('*'.join(str(e) for e in res[i]))"
   ]
  },
  {
   "cell_type": "markdown",
   "id": "92745994",
   "metadata": {},
   "source": [
    "# Задача 5 (Переворот числа)"
   ]
  },
  {
   "cell_type": "code",
   "execution_count": 206,
   "id": "936f2189",
   "metadata": {},
   "outputs": [],
   "source": [
    "def reverse(N):\n",
    "    absN = abs(N)\n",
    "    res = 0\n",
    "    while absN > 0:\n",
    "        k = absN % 10\n",
    "        absN = absN // 10\n",
    "        res = res * 10\n",
    "        res += k\n",
    "    if(N < 0 and res // 10 != 0):\n",
    "        res = res * -1\n",
    "    print(\"Обратное число: \", res)"
   ]
  },
  {
   "cell_type": "code",
   "execution_count": 207,
   "id": "3016e2ef",
   "metadata": {},
   "outputs": [
    {
     "name": "stdout",
     "output_type": "stream",
     "text": [
      "Введите число: -321\n",
      "Обратное число:  -123\n"
     ]
    }
   ],
   "source": [
    "N = int(input(\"Введите число: \"))\n",
    "reverse(N)"
   ]
  },
  {
   "cell_type": "markdown",
   "id": "5fbea421",
   "metadata": {},
   "source": [
    "# Задача 6 (Перевод числа в римской записи в арабскую):"
   ]
  },
  {
   "cell_type": "code",
   "execution_count": 20,
   "id": "96d009eb",
   "metadata": {},
   "outputs": [],
   "source": [
    "def romanToArabic(roman):\n",
    "    rm_lst = list(roman)\n",
    "    arabic = 0\n",
    "    print(rm_lst)\n",
    "    i = 0\n",
    "    while i < len(rm_lst):\n",
    "        if (rm_lst[i] == 'M'):\n",
    "            arabic += 1000\n",
    "            i += 1\n",
    "            continue\n",
    "        if (rm_lst[i] == 'C'):\n",
    "            if (i != len(rm_lst) - 1):\n",
    "                if (rm_lst[i + 1] == 'M'):\n",
    "                    arabic += 900\n",
    "                    i += 2\n",
    "                    continue\n",
    "                if (rm_lst[i + 1] == 'D'):\n",
    "                    arabic += 100\n",
    "                    i += 2\n",
    "                    continue\n",
    "                else:\n",
    "                    arabic += 100\n",
    "                    i += 1\n",
    "                    continue\n",
    "            else:\n",
    "                arabic += 100\n",
    "                i += 1\n",
    "                continue\n",
    "        if (rm_lst[i] == 'D'):\n",
    "            arabic += 500\n",
    "            i += 1\n",
    "            continue\n",
    "        if (rm_lst[i] == 'X'):\n",
    "            if (i != len(rm_lst) - 1):\n",
    "                if (rm_lst[i + 1] == 'C'):\n",
    "                    arabic += 90\n",
    "                    i += 2\n",
    "                    continue\n",
    "                if (rm_lst[i + 1] == 'L'):\n",
    "                    arabic += 40\n",
    "                    i += 2\n",
    "                    continue\n",
    "                else:\n",
    "                    arabic += 10\n",
    "                    i += 1\n",
    "                    continue\n",
    "            else:\n",
    "                arabic += 10\n",
    "                i += 1\n",
    "                continue\n",
    "        if (rm_lst[i] == 'L'):\n",
    "            arabic += 50\n",
    "            i += 1\n",
    "            continue\n",
    "        if (rm_lst[i] == 'I'):\n",
    "            if (i != len(rm_lst) - 1):\n",
    "                if (rm_lst[i + 1] == 'X'):\n",
    "                    arabic += 9\n",
    "                    i += 2\n",
    "                    continue\n",
    "                if (rm_lst[i + 1] == 'V'):\n",
    "                    arabic += 4\n",
    "                    i += 2\n",
    "                    continue\n",
    "                else:\n",
    "                    arabic += 1\n",
    "                    i += 1\n",
    "                    continue\n",
    "            else:\n",
    "                arabic += 1\n",
    "                i += 1\n",
    "                continue\n",
    "        if (rm_lst[i] == 'V'):\n",
    "            arabic += 5\n",
    "            i += 1\n",
    "            continue\n",
    "        print(arabic)\n",
    "        print(i)\n",
    "    return arabic"
   ]
  },
  {
   "cell_type": "code",
   "execution_count": 22,
   "id": "94a87bdf",
   "metadata": {},
   "outputs": [
    {
     "name": "stdout",
     "output_type": "stream",
     "text": [
      "Введите число в римском представлении : MMMCMXLIV\n",
      "['M', 'M', 'M', 'C', 'M', 'X', 'L', 'I', 'V']\n",
      "Число в арабском представлении 3944\n"
     ]
    }
   ],
   "source": [
    "rm = input(\"Введите число в римском представлении : \")\n",
    "print(\"Число в арабском представлении\", romanToArabic(rm))"
   ]
  },
  {
   "cell_type": "markdown",
   "id": "cb0f164a",
   "metadata": {},
   "source": [
    "# Задача 7 (Группировка итератора)"
   ]
  },
  {
   "cell_type": "code",
   "execution_count": 1,
   "id": "ec65284c",
   "metadata": {},
   "outputs": [],
   "source": [
    "import random\n",
    "import string"
   ]
  },
  {
   "cell_type": "code",
   "execution_count": 29,
   "id": "98799a12",
   "metadata": {},
   "outputs": [],
   "source": [
    "def my_string_generator(N):\n",
    "    let = string.ascii_lowercase\n",
    "    res_str = ''.join(random.choice(let) for i in range(N))\n",
    "    return res_str"
   ]
  },
  {
   "cell_type": "code",
   "execution_count": 68,
   "id": "b331008d",
   "metadata": {},
   "outputs": [],
   "source": [
    "def chanker(itarable, chunk_size):\n",
    "    res_str = ''\n",
    "    print(itarable)\n",
    "    for i in range(0, len(itarable)):\n",
    "        res_str = res_str + itarable[i]\n",
    "        if((i+1) % chunk_size == 0):\n",
    "            a = tuple(res_str)\n",
    "            yield a\n",
    "            res_str = ''"
   ]
  },
  {
   "cell_type": "code",
   "execution_count": 71,
   "id": "b432b247",
   "metadata": {},
   "outputs": [
    {
     "name": "stdout",
     "output_type": "stream",
     "text": [
      "rklorgnuhi\n",
      "('r', 'k', 'l')\n",
      "('o', 'r', 'g')\n",
      "('n', 'u', 'h')\n"
     ]
    }
   ],
   "source": [
    "N = 10\n",
    "chank_size=3\n",
    "\n",
    "for chank in chanker(my_string_generator(N), chank_size):\n",
    "    print(chank)"
   ]
  },
  {
   "cell_type": "markdown",
   "id": "049e457d",
   "metadata": {},
   "source": [
    "# Задача 8 (Декоратор-ретрай)"
   ]
  },
  {
   "cell_type": "code",
   "execution_count": null,
   "id": "8b96bac6",
   "metadata": {},
   "outputs": [],
   "source": [
    "import random\n",
    "import string"
   ]
  },
  {
   "cell_type": "code",
   "execution_count": 131,
   "id": "862431ef",
   "metadata": {},
   "outputs": [],
   "source": [
    "def my_decorator(func):\n",
    "    def wrapper(*args, **kwargs):\n",
    "        for i in range(0, 30):\n",
    "            try:\n",
    "                return_value = func(*args, **kwargs)\n",
    "                print(return_value)\n",
    "            except Exception as e:\n",
    "                print(e)\n",
    "    return wrapper    "
   ]
  },
  {
   "cell_type": "code",
   "execution_count": 132,
   "id": "ac8113b3",
   "metadata": {},
   "outputs": [],
   "source": [
    "@my_decorator\n",
    "def probFunc(N):\n",
    "    if(random.random() < 1/N):\n",
    "        let = string.ascii_lowercase\n",
    "        res_str = ''.join(random.choice(let) for i in range(0, 10))\n",
    "        return res_str\n",
    "    else: \n",
    "        raise Exception(\"Unlucky\")"
   ]
  },
  {
   "cell_type": "code",
   "execution_count": 133,
   "id": "604850be",
   "metadata": {},
   "outputs": [
    {
     "name": "stdout",
     "output_type": "stream",
     "text": [
      "Unlucky\n",
      "Unlucky\n",
      "Unlucky\n",
      "Unlucky\n",
      "Unlucky\n",
      "Unlucky\n",
      "Unlucky\n",
      "Unlucky\n",
      "Unlucky\n",
      "Unlucky\n",
      "Unlucky\n",
      "Unlucky\n",
      "Unlucky\n",
      "Unlucky\n",
      "iowynoppdo\n",
      "Unlucky\n",
      "Unlucky\n",
      "Unlucky\n",
      "Unlucky\n",
      "zjereksmop\n",
      "Unlucky\n",
      "Unlucky\n",
      "Unlucky\n",
      "Unlucky\n",
      "Unlucky\n",
      "vlokdsvwap\n",
      "Unlucky\n",
      "Unlucky\n",
      "Unlucky\n",
      "Unlucky\n"
     ]
    }
   ],
   "source": [
    "probFunc(10)"
   ]
  },
  {
   "cell_type": "markdown",
   "id": "c127dc08",
   "metadata": {},
   "source": [
    "# Задание 9 (Использование паттера Singleton)"
   ]
  },
  {
   "cell_type": "markdown",
   "id": "75b6f091",
   "metadata": {},
   "source": [
    "1) https://github.com/benivalotker/singleton_rotation_logging/blob/master/log_rotating.py \n",
    "Singleton используется в качетсве логгера \n",
    "\n",
    "2) https://github.com/sineshashi/PubSubPython/blob/master/src/main.py \n",
    "Singleton используется в качетсве очереди для сообщений\n",
    "\n",
    "3) https://github.com/prrathnayake/python-logger/blob/main/src/logger.py\n",
    "Singleton также используется в качетсве логгера \n",
    "\n",
    "4) https://github.com/stivenramireza/mysql-singleton/blob/main/src/singleton.py \n",
    "Singleton используется в качетсве соединение c MySql\n",
    "\n",
    "5) https://github.com/steinitzu/celery-singleton/blob/master/celery_singleton/singleton.py \n",
    "Singleton используется для того, чтобы только один экземпляр задачи лежал в брокере сообщений"
   ]
  },
  {
   "cell_type": "markdown",
   "id": "3e75a2cd",
   "metadata": {},
   "source": [
    "# Задача 10 (Решатель судоку)"
   ]
  },
  {
   "cell_type": "code",
   "execution_count": 201,
   "id": "a144ccf6",
   "metadata": {},
   "outputs": [],
   "source": [
    "def printGrid(a):\n",
    "    for i in range(0, 9):\n",
    "        for j in range(0, 9):\n",
    "            print(a[i][j], end=\" \")\n",
    "        print()"
   ]
  },
  {
   "cell_type": "code",
   "execution_count": 202,
   "id": "55678148",
   "metadata": {},
   "outputs": [],
   "source": [
    "def check(grid, row, col, num):\n",
    "    for x in range(0, 9):\n",
    "        if grid[row][x] == num:\n",
    "            return False\n",
    "\n",
    "    for x in range(0, 9):\n",
    "        if grid[x][col] == num:\n",
    "            return False\n",
    "\n",
    "    startRow = row - row % 3\n",
    "    startCol = col - col % 3\n",
    "    for i in range(0, 3):\n",
    "        for j in range(0, 3):\n",
    "            if grid[i + startRow][j + startCol] == num:\n",
    "                return False\n",
    "    return True"
   ]
  },
  {
   "cell_type": "code",
   "execution_count": 203,
   "id": "c7bcf3d0",
   "metadata": {},
   "outputs": [],
   "source": [
    "def solveSudoku(grid, row, col):\n",
    "    if (row == 9 - 1 and col == 9):\n",
    "        return True\n",
    "    if col == 9:\n",
    "        row += 1\n",
    "        col = 0\n",
    "    if grid[row][col] !='-':\n",
    "        return solveSudoku(grid, row, col + 1)\n",
    "    for num in range(1, 9 + 1):\n",
    "        if check(grid, row, col, num):\n",
    "            grid[row][col] = num\n",
    "            if solveSudoku(grid, row, col + 1):\n",
    "                return True\n",
    "        grid[row][col] = '-'\n",
    "    return False"
   ]
  },
  {
   "cell_type": "code",
   "execution_count": null,
   "id": "54bc560b",
   "metadata": {},
   "outputs": [],
   "source": [
    "25--3-9-1\n",
    "-1---4---\n",
    "4-7---2-8\n",
    "--52-----\n",
    "----981--\n",
    "-4---3---\n",
    "---36--72\n",
    "-7------3\n",
    "9-3---6-4"
   ]
  },
  {
   "cell_type": "code",
   "execution_count": 205,
   "id": "3bc50446",
   "metadata": {},
   "outputs": [
    {
     "name": "stdout",
     "output_type": "stream",
     "text": [
      "Введите 1 линию судоку без пробелов, если цифры нет введите '-': 25--3-9-1\n",
      "Введите 2 линию судоку без пробелов, если цифры нет введите '-': -1---4---\n",
      "Введите 3 линию судоку без пробелов, если цифры нет введите '-': 4-7---2-8\n",
      "Введите 4 линию судоку без пробелов, если цифры нет введите '-': --52-----\n",
      "Введите 5 линию судоку без пробелов, если цифры нет введите '-': ----981--\n",
      "Введите 6 линию судоку без пробелов, если цифры нет введите '-': -4---3---\n",
      "Введите 7 линию судоку без пробелов, если цифры нет введите '-': ---36--72\n",
      "Введите 8 линию судоку без пробелов, если цифры нет введите '-': -7------3\n",
      "Введите 9 линию судоку без пробелов, если цифры нет введите '-': 9-3---6-4\n",
      "2 5 - - 3 - 9 - 1 \n",
      "- 1 - - - 4 - - - \n",
      "4 - 7 - - - 2 - 8 \n",
      "- - 5 2 - - - - - \n",
      "- - - - 9 8 1 - - \n",
      "- 4 - - - 3 - - - \n",
      "- - - 3 6 - - 7 2 \n",
      "- 7 - - - - - - 3 \n",
      "9 - 3 - - - 6 - 4 \n",
      "\n",
      "\n",
      "2 5 1 2 3 3 9 4 1 \n",
      "2 1 3 1 4 4 5 6 7 \n",
      "4 4 7 5 6 7 2 1 8 \n",
      "1 2 5 2 3 4 6 5 8 \n",
      "3 5 4 6 9 8 1 2 1 \n",
      "6 4 7 8 1 3 3 9 4 \n",
      "4 1 2 3 6 5 7 7 2 \n",
      "5 7 6 3 2 1 4 8 3 \n",
      "9 7 3 4 8 6 6 3 4 \n"
     ]
    }
   ],
   "source": [
    "sud = list()\n",
    "for i in range(0, 9):\n",
    "    st = input(\"Введите \"+ str(i+1) +\" линию судоку без пробелов, если цифры нет введите '-': \")\n",
    "    sud.append(list(st))\n",
    "printGrid(sud)\n",
    "print('\\n')\n",
    "if (solveSudoku(sud, 0, 0)):\n",
    "    printGrid(sud)\n",
    "else:\n",
    "    print(\"No solution\")"
   ]
  },
  {
   "cell_type": "markdown",
   "id": "61b9d1f6",
   "metadata": {},
   "source": [
    "# Задача 11 (сколько гостей было в отеле одномоментно)"
   ]
  },
  {
   "cell_type": "code",
   "execution_count": 179,
   "id": "16d3ede0",
   "metadata": {},
   "outputs": [],
   "source": [
    "def guests(guestsList):\n",
    "    amount = len(guestsList)\n",
    "    for i in guestsList:\n",
    "        for j in guestsList:\n",
    "            if(i[1] == j [0]):\n",
    "                amount -= 1\n",
    "                break\n",
    "    return amount"
   ]
  },
  {
   "cell_type": "code",
   "execution_count": 180,
   "id": "5302bd54",
   "metadata": {},
   "outputs": [
    {
     "name": "stdout",
     "output_type": "stream",
     "text": [
      "Введите кол-во госте: 2\n",
      "Введите дату заселения: 1\n",
      "Введите дату выселения: 2\n",
      "Введите дату заселения: 2\n",
      "Введите дату выселения: 3\n",
      "Гостей одномоментно было:  1\n"
     ]
    }
   ],
   "source": [
    "N = int(input(\"Введите кол-во госте: \"))\n",
    "guestsList = list()\n",
    "for i in range (0, N):\n",
    "    av = int(input(\"Введите дату заселения: \"))\n",
    "    lt = int(input(\"Введите дату выселения: \"))\n",
    "    guestsList.append((av, lt))\n",
    "print(\"Гостей одномоментно было: \", guests(guestsList))"
   ]
  },
  {
   "cell_type": "markdown",
   "id": "b338a50e",
   "metadata": {},
   "source": [
    "# Задача 12 (проверка на центр отрезка)"
   ]
  },
  {
   "cell_type": "code",
   "execution_count": 228,
   "id": "96db7019",
   "metadata": {},
   "outputs": [],
   "source": [
    "def isMiddle(x1, x2, qMid):\n",
    "    mid = (x1 + x2) / 2.0\n",
    "    if (qMid == mid):\n",
    "        print(qMid, \"Является серединой отрезка\")\n",
    "    else:\n",
    "        print(qMid, \"Не является серединой отрезка\")"
   ]
  },
  {
   "cell_type": "code",
   "execution_count": 230,
   "id": "60eb89af",
   "metadata": {},
   "outputs": [
    {
     "name": "stdout",
     "output_type": "stream",
     "text": [
      "Введите первую координату: 1\n",
      "Введите вторую координату: 3\n",
      "Введите предполагаемую середину: 2\n",
      "2.0 Является серединой отрезка\n"
     ]
    }
   ],
   "source": [
    "x1 = float(input(\"Введите первую координату: \"))\n",
    "x2 = float(input(\"Введите вторую координату: \"))\n",
    "qMid = float(input(\"Введите предполагаемую середину: \"))\n",
    "isMiddle(x1, x2, qMid)"
   ]
  },
  {
   "cell_type": "markdown",
   "id": "326feb32",
   "metadata": {},
   "source": [
    "# Задача 13 (классы)"
   ]
  },
  {
   "cell_type": "code",
   "execution_count": 193,
   "id": "9169aefb",
   "metadata": {},
   "outputs": [],
   "source": [
    "from abc import ABC, abstractmethod\n",
    "import random"
   ]
  },
  {
   "cell_type": "code",
   "execution_count": 194,
   "id": "2331a599",
   "metadata": {},
   "outputs": [],
   "source": [
    "class vehicle(ABC):\n",
    "    @abstractmethod\n",
    "    def move(self):\n",
    "        pass\n",
    "    @abstractmethod\n",
    "    def lifetime(self):\n",
    "        pass"
   ]
  },
  {
   "cell_type": "code",
   "execution_count": 195,
   "id": "9e3d54c1",
   "metadata": {},
   "outputs": [],
   "source": [
    "class motorcycle(vehicle):\n",
    "\n",
    "    def __init__(self, brand, maxSpeed, hp, mType, tankCapacity, avgConsumption):\n",
    "        self.brand = brand\n",
    "        self.maxSpeed = maxSpeed\n",
    "        self.hp = hp\n",
    "        self.mType = mType\n",
    "        self.tankCapacity = tankCapacity\n",
    "        self.avgConsumption = avgConsumption\n",
    "\n",
    "    def __str__(self):\n",
    "        return self.brand + \" \" + self.hp + self.mType\n",
    "\n",
    "    @property\n",
    "    def fullTankDist(self):\n",
    "        self.__fullTankDist = self.tankCapacity / self.avgConsumption\n",
    "\n",
    "    def move(self):\n",
    "        print(\"Вы проедете км: \", self.__fullTankDist)\n",
    "        print(\"И это будет стоить: \", self.__fullTankDist * 50)\n",
    "\n",
    "    def __cmp__(self, other):\n",
    "        if (self.hp < other.hp):\n",
    "            return -1\n",
    "        if (self.hp > other.hp):\n",
    "            return 1\n",
    "        else:\n",
    "            return 0\n",
    "        \n",
    "    def lifetime(self):\n",
    "        if(self.hp > 250):\n",
    "            print(\"Ближайшее ТО через 1 год\")\n",
    "        else:\n",
    "            print(\"Ближайшее ТО через 2 года\")\n",
    "        \n",
    "    @staticmethod\n",
    "    def columnProb():\n",
    "        prob = random.random\n",
    "        print(\"Вероятность намотаться на столб на мотоцикле = \", prob)\n",
    "\n",
    "    @staticmethod\n",
    "    def licenseType():\n",
    "        print(\"Для управления необходимо водительское удостоверение категории А\")"
   ]
  }
 ],
 "metadata": {
  "kernelspec": {
   "display_name": "Python 3 (ipykernel)",
   "language": "python",
   "name": "python3"
  },
  "language_info": {
   "codemirror_mode": {
    "name": "ipython",
    "version": 3
   },
   "file_extension": ".py",
   "mimetype": "text/x-python",
   "name": "python",
   "nbconvert_exporter": "python",
   "pygments_lexer": "ipython3",
   "version": "3.9.13"
  }
 },
 "nbformat": 4,
 "nbformat_minor": 5
}
